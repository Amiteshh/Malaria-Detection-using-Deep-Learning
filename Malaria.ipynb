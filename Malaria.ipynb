{
 "cells": [
  {
   "cell_type": "code",
   "execution_count": 2,
   "metadata": {},
   "outputs": [],
   "source": [
    "# import the necessary packages\n",
    "import os\n",
    " \n",
    "# initialize the path to the *original* input directory of images\n",
    "ORIG_INPUT_DATASET = \"malaria/cell_images\"\n",
    " \n",
    "# initialize the base path to the *new* directory that will contain\n",
    "# our images after computing the training and testing split\n",
    "BASE_PATH = \"malaria\"\n",
    " \n",
    "# derive the training, validation, and testing directories\n",
    "TRAIN_PATH = os.path.sep.join([BASE_PATH, \"training\"])\n",
    "VAL_PATH = os.path.sep.join([BASE_PATH, \"validation\"])\n",
    "TEST_PATH = os.path.sep.join([BASE_PATH, \"testing\"])\n",
    " \n",
    "# define the amount of data that will be used training\n",
    "TRAIN_SPLIT = 0.8\n",
    " \n",
    "# the amount of validation data will be a percentage of the\n",
    "# *training* data\n",
    "VAL_SPLIT = 0.1"
   ]
  },
  {
   "cell_type": "code",
   "execution_count": 3,
   "metadata": {},
   "outputs": [],
   "source": [
    "\n",
    "# import the necessary packages\n",
    "from pyimagesearch import config\n",
    "from imutils import paths\n",
    "import random\n",
    "import shutil\n",
    "import os\n",
    " \n",
    "# grab the paths to all input images in the original input directory\n",
    "# and shuffle them\n",
    "imagePaths = list(paths.list_images(config.ORIG_INPUT_DATASET))\n",
    "random.seed(42)\n",
    "random.shuffle(imagePaths)"
   ]
  },
  {
   "cell_type": "code",
   "execution_count": 4,
   "metadata": {},
   "outputs": [],
   "source": [
    "# compute the training and testing split\n",
    "i = int(len(imagePaths) * config.TRAIN_SPLIT)\n",
    "trainPaths = imagePaths[:i]\n",
    "testPaths = imagePaths[i:]\n",
    " \n",
    "# we'll be using part of the training data for validation\n",
    "i = int(len(trainPaths) * config.VAL_SPLIT)\n",
    "valPaths = trainPaths[:i]\n",
    "trainPaths = trainPaths[i:]"
   ]
  },
  {
   "cell_type": "code",
   "execution_count": 5,
   "metadata": {},
   "outputs": [],
   "source": [
    "# define the datasets that we'll be building\n",
    "datasets = [\n",
    "\t(\"training\", trainPaths, config.TRAIN_PATH),\n",
    "\t(\"validation\", valPaths, config.VAL_PATH),\n",
    "\t(\"testing\", testPaths, config.TEST_PATH)\n",
    "]"
   ]
  },
  {
   "cell_type": "code",
   "execution_count": 6,
   "metadata": {},
   "outputs": [
    {
     "name": "stdout",
     "output_type": "stream",
     "text": [
      "[INFO] building 'training' split\n",
      "[INFO] building 'validation' split\n",
      "[INFO] building 'testing' split\n"
     ]
    }
   ],
   "source": [
    "# loop over the datasets\n",
    "for (dType, imagePaths, baseOutput) in datasets:\n",
    "\t# show which data split we are creating\n",
    "\tprint(\"[INFO] building '{}' split\".format(dType))\n",
    " \n",
    "\t# if the output base output directory does not exist, create it\n",
    "\tif not os.path.exists(baseOutput):\n",
    "\t\tprint(\"[INFO] 'creating {}' directory\".format(baseOutput))\n",
    "\t\tos.makedirs(baseOutput)\n",
    " \n",
    "\t# loop over the input image paths\n",
    "\tfor inputPath in imagePaths:\n",
    "\t\t# extract the filename of the input image along with its\n",
    "\t\t# corresponding class label\n",
    "\t\tfilename = inputPath.split(os.path.sep)[-1]\n",
    "\t\tlabel = inputPath.split(os.path.sep)[-2]\n",
    " \n",
    "\t\t# build the path to the label directory\n",
    "\t\tlabelPath = os.path.sep.join([baseOutput, label])\n",
    " \n",
    "\t\t# if the label output directory does not exist, create it\n",
    "\t\tif not os.path.exists(labelPath):\n",
    "\t\t\tprint(\"[INFO] 'creating {}' directory\".format(labelPath))\n",
    "\t\t\tos.makedirs(labelPath)\n",
    " \n",
    "\t\t# construct the path to the destination image and then copy\n",
    "\t\t# the image itself\n",
    "\t\tp = os.path.sep.join([labelPath, filename])\n",
    "\t\tshutil.copy2(inputPath, p)"
   ]
  },
  {
   "cell_type": "code",
   "execution_count": 7,
   "metadata": {},
   "outputs": [],
   "source": [
    "\n",
    "\n",
    "# define the total number of epochs to train for along with the\n",
    "# initial learning rate and batch size\n",
    "NUM_EPOCHS = 50\n",
    "INIT_LR = 1e-1\n",
    "BS = 32\n",
    " \n",
    "def poly_decay(epoch):\n",
    "\t# initialize the maximum number of epochs, base learning rate,\n",
    "\t# and power of the polynomial\n",
    "\tmaxEpochs = NUM_EPOCHS\n",
    "\tbaseLR = INIT_LR\n",
    "\tpower = 1.0\n",
    " \n",
    "\t# compute the new learning rate based on polynomial decay\n",
    "\talpha = baseLR * (1 - (epoch / float(maxEpochs))) ** power\n",
    " \n",
    "\t# return the new learning rate\n",
    "\treturn alpha"
   ]
  },
  {
   "cell_type": "code",
   "execution_count": 8,
   "metadata": {},
   "outputs": [],
   "source": [
    "# determine the total number of image paths in training, validation,\n",
    "# and testing directories\n",
    "totalTrain = len(list(paths.list_images(config.TRAIN_PATH)))\n",
    "totalVal = len(list(paths.list_images(config.VAL_PATH)))\n",
    "totalTest = len(list(paths.list_images(config.TEST_PATH)))"
   ]
  },
  {
   "cell_type": "code",
   "execution_count": 9,
   "metadata": {},
   "outputs": [
    {
     "name": "stderr",
     "output_type": "stream",
     "text": [
      "Using TensorFlow backend.\n"
     ]
    }
   ],
   "source": [
    "from keras.preprocessing.image import ImageDataGenerator"
   ]
  },
  {
   "cell_type": "code",
   "execution_count": 10,
   "metadata": {},
   "outputs": [],
   "source": [
    "# initialize the training training data augmentation object\n",
    "trainAug = ImageDataGenerator(\n",
    "\trescale=1 / 255.0,\n",
    "\trotation_range=20,\n",
    "\tzoom_range=0.05,\n",
    "\twidth_shift_range=0.05,\n",
    "\theight_shift_range=0.05,\n",
    "\tshear_range=0.05,\n",
    "\thorizontal_flip=True,\n",
    "\tfill_mode=\"nearest\")\n",
    "\n",
    "# initialize the validation (and testing) data augmentation object\n",
    "valAug = ImageDataGenerator(rescale=1 / 255.0)"
   ]
  },
  {
   "cell_type": "code",
   "execution_count": 28,
   "metadata": {},
   "outputs": [
    {
     "name": "stdout",
     "output_type": "stream",
     "text": [
      "Found 19842 images belonging to 2 classes.\n",
      "Found 2204 images belonging to 2 classes.\n",
      "Found 5512 images belonging to 2 classes.\n"
     ]
    },
    {
     "data": {
      "text/plain": [
       "keras_preprocessing.image.directory_iterator.DirectoryIterator"
      ]
     },
     "execution_count": 28,
     "metadata": {},
     "output_type": "execute_result"
    }
   ],
   "source": [
    "# initialize the training generator\n",
    "trainGen = trainAug.flow_from_directory(\n",
    "\tconfig.TRAIN_PATH,\n",
    "\tclass_mode=\"categorical\",\n",
    "\ttarget_size=(64, 64),\n",
    "\tcolor_mode=\"rgb\",\n",
    "\tshuffle=True,\n",
    "\tbatch_size=BS)\n",
    "\n",
    "# initialize the validation generator\n",
    "valGen = valAug.flow_from_directory(\n",
    "\tconfig.VAL_PATH,\n",
    "\tclass_mode=\"categorical\",\n",
    "\ttarget_size=(64, 64),\n",
    "\tcolor_mode=\"rgb\",\n",
    "\tshuffle=False,\n",
    "\tbatch_size=BS)\n",
    "\n",
    "# initialize the testing generator\n",
    "testGen = valAug.flow_from_directory(\n",
    "\tconfig.TEST_PATH,\n",
    "\tclass_mode=\"categorical\",\n",
    "\ttarget_size=(64, 64),\n",
    "\tcolor_mode=\"rgb\",\n",
    "\tshuffle=False,\n",
    "\tbatch_size=BS)\n",
    "\n",
    "type(testGen)\n"
   ]
  },
  {
   "cell_type": "code",
   "execution_count": 12,
   "metadata": {},
   "outputs": [
    {
     "name": "stderr",
     "output_type": "stream",
     "text": [
      "usage: ipykernel_launcher.py [-h] [-p PLOT]\n",
      "ipykernel_launcher.py: error: unrecognized arguments: -f C:\\Users\\amite\\AppData\\Roaming\\jupyter\\runtime\\kernel-28e32a7b-a249-4594-b68e-280c92330d63.json\n"
     ]
    },
    {
     "ename": "SystemExit",
     "evalue": "2",
     "output_type": "error",
     "traceback": [
      "An exception has occurred, use %tb to see the full traceback.\n",
      "\u001b[1;31mSystemExit\u001b[0m\u001b[1;31m:\u001b[0m 2\n"
     ]
    },
    {
     "name": "stderr",
     "output_type": "stream",
     "text": [
      "C:\\Users\\amite\\Anaconda3\\lib\\site-packages\\IPython\\core\\interactiveshell.py:3333: UserWarning: To exit: use 'exit', 'quit', or Ctrl-D.\n",
      "  warn(\"To exit: use 'exit', 'quit', or Ctrl-D.\", stacklevel=1)\n"
     ]
    }
   ],
   "source": [
    "#Train Model Script\n",
    "\n",
    "# set the matplotlib backend so figures can be saved in the background\n",
    "import matplotlib\n",
    "matplotlib.use(\"Agg\")\n",
    "\n",
    "# import the necessary packages\n",
    "from keras.preprocessing.image import ImageDataGenerator\n",
    "from keras.callbacks import LearningRateScheduler\n",
    "from keras.optimizers import SGD\n",
    "from pyimagesearch.resnet import ResNet\n",
    "from pyimagesearch import config\n",
    "from sklearn.metrics import classification_report\n",
    "from imutils import paths\n",
    "import matplotlib.pyplot as plt\n",
    "import numpy as np\n",
    "import argparse\n",
    "\n",
    "# construct the argument parser and parse the arguments\n",
    "ap = argparse.ArgumentParser()\n",
    "ap.add_argument(\"-p\", \"--plot\", type=str, default=\"plot.png\",\n",
    "\thelp=\"path to output loss/accuracy plot\")\n",
    "args = vars(ap.parse_args())"
   ]
  },
  {
   "cell_type": "code",
   "execution_count": 13,
   "metadata": {},
   "outputs": [],
   "source": [
    "import keras"
   ]
  },
  {
   "cell_type": "code",
   "execution_count": 14,
   "metadata": {},
   "outputs": [
    {
     "name": "stderr",
     "output_type": "stream",
     "text": [
      "WARNING: Logging before flag parsing goes to stderr.\n",
      "W1012 01:38:25.620622  7628 deprecation_wrapper.py:119] From C:\\Users\\amite\\Anaconda3\\lib\\site-packages\\keras\\backend\\tensorflow_backend.py:66: The name tf.get_default_graph is deprecated. Please use tf.compat.v1.get_default_graph instead.\n",
      "\n",
      "W1012 01:38:25.656560  7628 deprecation_wrapper.py:119] From C:\\Users\\amite\\Anaconda3\\lib\\site-packages\\keras\\backend\\tensorflow_backend.py:541: The name tf.placeholder is deprecated. Please use tf.compat.v1.placeholder instead.\n",
      "\n",
      "W1012 01:38:25.684507  7628 deprecation_wrapper.py:119] From C:\\Users\\amite\\Anaconda3\\lib\\site-packages\\keras\\backend\\tensorflow_backend.py:190: The name tf.get_default_session is deprecated. Please use tf.compat.v1.get_default_session instead.\n",
      "\n",
      "W1012 01:38:25.685508  7628 deprecation_wrapper.py:119] From C:\\Users\\amite\\Anaconda3\\lib\\site-packages\\keras\\backend\\tensorflow_backend.py:197: The name tf.ConfigProto is deprecated. Please use tf.compat.v1.ConfigProto instead.\n",
      "\n",
      "W1012 01:38:25.686478  7628 deprecation_wrapper.py:119] From C:\\Users\\amite\\Anaconda3\\lib\\site-packages\\keras\\backend\\tensorflow_backend.py:203: The name tf.Session is deprecated. Please use tf.compat.v1.Session instead.\n",
      "\n",
      "W1012 01:38:27.812978  7628 deprecation_wrapper.py:119] From C:\\Users\\amite\\Anaconda3\\lib\\site-packages\\keras\\backend\\tensorflow_backend.py:2041: The name tf.nn.fused_batch_norm is deprecated. Please use tf.compat.v1.nn.fused_batch_norm instead.\n",
      "\n",
      "W1012 01:38:27.995486  7628 deprecation_wrapper.py:119] From C:\\Users\\amite\\Anaconda3\\lib\\site-packages\\keras\\backend\\tensorflow_backend.py:4267: The name tf.nn.max_pool is deprecated. Please use tf.nn.max_pool2d instead.\n",
      "\n",
      "W1012 01:38:32.543317  7628 deprecation_wrapper.py:119] From C:\\Users\\amite\\Anaconda3\\lib\\site-packages\\keras\\backend\\tensorflow_backend.py:4271: The name tf.nn.avg_pool is deprecated. Please use tf.nn.avg_pool2d instead.\n",
      "\n",
      "W1012 01:38:32.603127  7628 deprecation_wrapper.py:119] From C:\\Users\\amite\\Anaconda3\\lib\\site-packages\\keras\\optimizers.py:793: The name tf.train.Optimizer is deprecated. Please use tf.compat.v1.train.Optimizer instead.\n",
      "\n",
      "W1012 01:38:32.614099  7628 deprecation.py:323] From C:\\Users\\amite\\Anaconda3\\lib\\site-packages\\tensorflow\\python\\ops\\nn_impl.py:180: add_dispatch_support.<locals>.wrapper (from tensorflow.python.ops.array_ops) is deprecated and will be removed in a future version.\n",
      "Instructions for updating:\n",
      "Use tf.where in 2.0, which has the same broadcast rule as np.where\n"
     ]
    }
   ],
   "source": [
    "# initialize our ResNet model and compile it\n",
    "model = ResNet.build(64, 64, 3, 2, (3, 4, 6),\n",
    "\t(64, 128, 256, 512), reg=0.0005)\n",
    "opt = SGD(lr=INIT_LR, momentum=0.9)\n",
    "model.compile(loss=\"binary_crossentropy\", optimizer=opt,\n",
    "\tmetrics=[\"accuracy\"])"
   ]
  },
  {
   "cell_type": "code",
   "execution_count": 15,
   "metadata": {
    "scrolled": true
   },
   "outputs": [
    {
     "name": "stdout",
     "output_type": "stream",
     "text": [
      "Epoch 1/50\n",
      "620/620 [==============================] - 69s 111ms/step - loss: 1.1862 - acc: 0.7187 - val_loss: 0.7294 - val_acc: 0.9403\n",
      "Epoch 2/50\n",
      "620/620 [==============================] - 60s 96ms/step - loss: 0.6515 - acc: 0.9402 - val_loss: 0.5633 - val_acc: 0.9494\n",
      "Epoch 3/50\n",
      "620/620 [==============================] - 60s 96ms/step - loss: 0.6900 - acc: 0.9353 - val_loss: 0.7876 - val_acc: 0.9424\n",
      "Epoch 4/50\n",
      "620/620 [==============================] - 61s 98ms/step - loss: 0.6559 - acc: 0.9494 - val_loss: 0.5625 - val_acc: 0.9549\n",
      "Epoch 5/50\n",
      "620/620 [==============================] - 61s 98ms/step - loss: 0.5167 - acc: 0.9487 - val_loss: 0.4577 - val_acc: 0.9572\n",
      "Epoch 6/50\n",
      "620/620 [==============================] - 60s 97ms/step - loss: 0.4469 - acc: 0.9476 - val_loss: 0.4961 - val_acc: 0.9424\n",
      "Epoch 7/50\n",
      "620/620 [==============================] - 61s 98ms/step - loss: 0.4643 - acc: 0.9449 - val_loss: 0.4066 - val_acc: 0.9549\n",
      "Epoch 8/50\n",
      "620/620 [==============================] - 60s 97ms/step - loss: 0.3743 - acc: 0.9521 - val_loss: 0.3496 - val_acc: 0.9512\n",
      "Epoch 9/50\n",
      "620/620 [==============================] - 61s 98ms/step - loss: 0.3200 - acc: 0.9533 - val_loss: 0.2853 - val_acc: 0.9590\n",
      "Epoch 10/50\n",
      "620/620 [==============================] - 60s 97ms/step - loss: 0.3483 - acc: 0.9438 - val_loss: 0.2865 - val_acc: 0.9558\n",
      "Epoch 11/50\n",
      "620/620 [==============================] - 62s 99ms/step - loss: 0.2756 - acc: 0.9545 - val_loss: 0.2828 - val_acc: 0.9434\n",
      "Epoch 12/50\n",
      "620/620 [==============================] - 61s 98ms/step - loss: 0.2789 - acc: 0.9489 - val_loss: 0.2615 - val_acc: 0.9599\n",
      "Epoch 13/50\n",
      "620/620 [==============================] - 61s 98ms/step - loss: 0.2937 - acc: 0.9447 - val_loss: 0.2643 - val_acc: 0.9590\n",
      "Epoch 14/50\n",
      "620/620 [==============================] - 61s 98ms/step - loss: 0.2517 - acc: 0.9544 - val_loss: 0.2930 - val_acc: 0.9503\n",
      "Epoch 15/50\n",
      "620/620 [==============================] - 61s 98ms/step - loss: 0.2223 - acc: 0.9557 - val_loss: 0.2338 - val_acc: 0.9530\n",
      "Epoch 16/50\n",
      "620/620 [==============================] - 62s 100ms/step - loss: 0.2250 - acc: 0.9517 - val_loss: 0.5269 - val_acc: 0.9300\n",
      "Epoch 17/50\n",
      "620/620 [==============================] - 64s 103ms/step - loss: 0.2317 - acc: 0.9548 - val_loss: 0.2104 - val_acc: 0.9535\n",
      "Epoch 18/50\n",
      "620/620 [==============================] - 64s 104ms/step - loss: 0.2008 - acc: 0.9567 - val_loss: 0.1829 - val_acc: 0.9599\n",
      "Epoch 19/50\n",
      "620/620 [==============================] - 61s 99ms/step - loss: 0.1865 - acc: 0.9562 - val_loss: 0.1819 - val_acc: 0.9599\n",
      "Epoch 20/50\n",
      "620/620 [==============================] - 61s 98ms/step - loss: 0.1766 - acc: 0.9597 - val_loss: 0.1681 - val_acc: 0.9613\n",
      "Epoch 21/50\n",
      "620/620 [==============================] - 60s 98ms/step - loss: 0.1783 - acc: 0.9571 - val_loss: 0.1711 - val_acc: 0.9576\n",
      "Epoch 22/50\n",
      "620/620 [==============================] - 61s 98ms/step - loss: 0.1671 - acc: 0.9591 - val_loss: 0.1646 - val_acc: 0.9599\n",
      "Epoch 23/50\n",
      "620/620 [==============================] - 60s 98ms/step - loss: 0.1624 - acc: 0.9595 - val_loss: 0.1507 - val_acc: 0.9609\n",
      "Epoch 24/50\n",
      "620/620 [==============================] - 60s 97ms/step - loss: 0.1609 - acc: 0.9598 - val_loss: 0.1579 - val_acc: 0.9576\n",
      "Epoch 25/50\n",
      "620/620 [==============================] - 60s 97ms/step - loss: 0.1567 - acc: 0.9596 - val_loss: 0.1461 - val_acc: 0.9599\n",
      "Epoch 26/50\n",
      "620/620 [==============================] - 60s 97ms/step - loss: 0.1550 - acc: 0.9589 - val_loss: 0.1520 - val_acc: 0.9632\n",
      "Epoch 27/50\n",
      "620/620 [==============================] - 60s 97ms/step - loss: 0.1484 - acc: 0.9607 - val_loss: 0.1458 - val_acc: 0.9613\n",
      "Epoch 28/50\n",
      "620/620 [==============================] - 61s 98ms/step - loss: 0.2153 - acc: 0.9521 - val_loss: 0.2602 - val_acc: 0.9563\n",
      "Epoch 29/50\n",
      "620/620 [==============================] - 60s 97ms/step - loss: 0.2527 - acc: 0.9511 - val_loss: 0.2582 - val_acc: 0.9489\n",
      "Epoch 30/50\n",
      "620/620 [==============================] - 60s 97ms/step - loss: 0.2384 - acc: 0.9516 - val_loss: 0.2066 - val_acc: 0.9572\n",
      "Epoch 31/50\n",
      "620/620 [==============================] - 60s 97ms/step - loss: 0.2069 - acc: 0.9567 - val_loss: 0.1804 - val_acc: 0.9590\n",
      "Epoch 32/50\n",
      "620/620 [==============================] - 60s 97ms/step - loss: 0.1761 - acc: 0.9611 - val_loss: 0.1642 - val_acc: 0.9613\n",
      "Epoch 33/50\n",
      "620/620 [==============================] - 60s 97ms/step - loss: 0.1882 - acc: 0.9548 - val_loss: 0.1784 - val_acc: 0.9581\n",
      "Epoch 34/50\n",
      "620/620 [==============================] - 60s 97ms/step - loss: 0.1703 - acc: 0.9611 - val_loss: 0.1692 - val_acc: 0.9581\n",
      "Epoch 35/50\n",
      "620/620 [==============================] - 61s 98ms/step - loss: 0.1597 - acc: 0.9611 - val_loss: 0.1583 - val_acc: 0.9586\n",
      "Epoch 36/50\n",
      "620/620 [==============================] - 60s 97ms/step - loss: 0.1511 - acc: 0.9628 - val_loss: 0.1648 - val_acc: 0.9590\n",
      "Epoch 37/50\n",
      "620/620 [==============================] - 60s 97ms/step - loss: 0.1505 - acc: 0.9616 - val_loss: 0.1424 - val_acc: 0.9604\n",
      "Epoch 38/50\n",
      "620/620 [==============================] - 61s 98ms/step - loss: 0.1526 - acc: 0.9616 - val_loss: 0.1460 - val_acc: 0.9622\n",
      "Epoch 39/50\n",
      "620/620 [==============================] - 62s 100ms/step - loss: 0.1508 - acc: 0.9609 - val_loss: 0.1624 - val_acc: 0.9576\n",
      "Epoch 40/50\n",
      "620/620 [==============================] - 60s 97ms/step - loss: 0.1479 - acc: 0.9620 - val_loss: 0.1482 - val_acc: 0.9604\n",
      "Epoch 41/50\n",
      "620/620 [==============================] - 60s 96ms/step - loss: 0.1411 - acc: 0.9624 - val_loss: 0.1419 - val_acc: 0.9622\n",
      "Epoch 42/50\n",
      "620/620 [==============================] - 60s 97ms/step - loss: 0.1476 - acc: 0.9615 - val_loss: 0.1402 - val_acc: 0.9645\n",
      "Epoch 43/50\n",
      "620/620 [==============================] - 60s 97ms/step - loss: 0.1438 - acc: 0.9625 - val_loss: 0.1452 - val_acc: 0.9627\n",
      "Epoch 44/50\n",
      "620/620 [==============================] - 61s 99ms/step - loss: 0.1384 - acc: 0.9643 - val_loss: 0.1368 - val_acc: 0.9641\n",
      "Epoch 45/50\n",
      "620/620 [==============================] - 60s 96ms/step - loss: 0.1462 - acc: 0.9614 - val_loss: 0.1499 - val_acc: 0.9576\n",
      "Epoch 46/50\n",
      "620/620 [==============================] - 62s 100ms/step - loss: 0.1411 - acc: 0.9622 - val_loss: 0.1371 - val_acc: 0.9627\n",
      "Epoch 47/50\n",
      "620/620 [==============================] - 61s 99ms/step - loss: 0.1327 - acc: 0.9659 - val_loss: 0.1269 - val_acc: 0.9650\n",
      "Epoch 48/50\n",
      "620/620 [==============================] - 61s 98ms/step - loss: 0.1281 - acc: 0.9667 - val_loss: 0.1314 - val_acc: 0.9664\n",
      "Epoch 49/50\n",
      "620/620 [==============================] - 60s 97ms/step - loss: 0.1242 - acc: 0.9674 - val_loss: 0.1333 - val_acc: 0.9636\n",
      "Epoch 50/50\n",
      "620/620 [==============================] - 60s 97ms/step - loss: 0.1253 - acc: 0.9683 - val_loss: 0.1302 - val_acc: 0.9650\n"
     ]
    }
   ],
   "source": [
    "# define our set of callbacks and fit the model\n",
    "callbacks = [LearningRateScheduler(poly_decay)]\n",
    "H = model.fit_generator(\n",
    "\ttrainGen,\n",
    "\tsteps_per_epoch=totalTrain // BS,\n",
    "\tvalidation_data=valGen,\n",
    "\tvalidation_steps=totalVal // BS,\n",
    "\tepochs=NUM_EPOCHS,\n",
    "\tcallbacks=callbacks)"
   ]
  },
  {
   "cell_type": "code",
   "execution_count": 131,
   "metadata": {},
   "outputs": [
    {
     "name": "stdout",
     "output_type": "stream",
     "text": [
      "<keras.callbacks.History object at 0x000001F06DD63978>\n"
     ]
    },
    {
     "data": {
      "text/plain": [
       "(None, keras.callbacks.History, 1)"
      ]
     },
     "execution_count": 131,
     "metadata": {},
     "output_type": "execute_result"
    }
   ],
   "source": [
    "print(H), type(H) ,np.size(H)"
   ]
  },
  {
   "cell_type": "code",
   "execution_count": 32,
   "metadata": {},
   "outputs": [],
   "source": [
    "# save the best model and early stopping\n",
    "saveBestModel = keras.callbacks.ModelCheckpoint('/best_model.hdf5', monitor='val_acc', verbose=0, save_best_only=True, save_weights_only=False, mode='auto', period=1)"
   ]
  },
  {
   "cell_type": "code",
   "execution_count": 33,
   "metadata": {},
   "outputs": [
    {
     "name": "stdout",
     "output_type": "stream",
     "text": [
      "Saved model to disk\n"
     ]
    }
   ],
   "source": [
    "# serialize model to JSON\n",
    "model_json = model.to_json()\n",
    "with open(\"model.json\", \"w\") as json_file:\n",
    "    json_file.write(model_json)\n",
    "# serialize weights to HDF5\n",
    "model.save_weights(\"model.h5\")\n",
    "print(\"Saved model to disk\")\n",
    " \n"
   ]
  },
  {
   "cell_type": "code",
   "execution_count": 34,
   "metadata": {},
   "outputs": [],
   "source": [
    "import pickle \n",
    "Trained_model = 'H(70_30).sav'\n",
    "pickle.dump(H, open(Trained_model, 'wb'))"
   ]
  },
  {
   "cell_type": "code",
   "execution_count": 101,
   "metadata": {},
   "outputs": [
    {
     "data": {
      "text/plain": [
       "keras_preprocessing.image.directory_iterator.DirectoryIterator"
      ]
     },
     "execution_count": 101,
     "metadata": {},
     "output_type": "execute_result"
    }
   ],
   "source": [
    "type (testGen)"
   ]
  },
  {
   "cell_type": "code",
   "execution_count": 41,
   "metadata": {},
   "outputs": [
    {
     "name": "stdout",
     "output_type": "stream",
     "text": [
      "[INFO] evaluating network...\n",
      "[[9.9891698e-01 1.0830661e-03]\n",
      " [9.9966955e-01 3.3044428e-04]\n",
      " [9.8856121e-01 1.1438799e-02]\n",
      " ...\n",
      " [3.1474668e-01 6.8525332e-01]\n",
      " [6.6206683e-03 9.9337935e-01]\n",
      " [9.9068648e-01 9.3134744e-03]]\n",
      "              precision    recall  f1-score   support\n",
      "\n",
      " Parasitized       0.98      0.96      0.97      2726\n",
      "  Uninfected       0.96      0.98      0.97      2786\n",
      "\n",
      "    accuracy                           0.97      5512\n",
      "   macro avg       0.97      0.97      0.97      5512\n",
      "weighted avg       0.97      0.97      0.97      5512\n",
      "\n"
     ]
    },
    {
     "data": {
      "text/plain": [
       "numpy.ndarray"
      ]
     },
     "execution_count": 41,
     "metadata": {},
     "output_type": "execute_result"
    }
   ],
   "source": [
    "# reset the testing generator and then use our trained model to\n",
    "# make predictions on the data\n",
    "print(\"[INFO] evaluating network...\")\n",
    "testGen.reset()\n",
    "predIdxs = model.predict_generator(testGen,\n",
    "\tsteps=(totalTest // BS) + 1)\n",
    "\n",
    "print(predIdxs)\n",
    "\n",
    "# for each image in the testing set we need to find the index of the\n",
    "# label with corresponding largest predicted probability\n",
    "predIdxs = np.argmax(predIdxs, axis=1)\n",
    "\n",
    "# show a nicely formatted classification report\n",
    "print(classification_report(testGen.classes, predIdxs,\n",
    "\ttarget_names=testGen.class_indices.keys()))\n",
    "\n",
    "type(predIdxs)"
   ]
  },
  {
   "cell_type": "markdown",
   "metadata": {},
   "source": []
  },
  {
   "cell_type": "code",
   "execution_count": 361,
   "metadata": {},
   "outputs": [],
   "source": [
    "from PIL import Image\n",
    "pngfile1= Image.open(\"C5NThinF_IMG_20150609_122020_cell_230.png\")"
   ]
  },
  {
   "cell_type": "code",
   "execution_count": 362,
   "metadata": {},
   "outputs": [
    {
     "data": {
      "text/plain": [
       "PIL.PngImagePlugin.PngImageFile"
      ]
     },
     "execution_count": 362,
     "metadata": {},
     "output_type": "execute_result"
    }
   ],
   "source": [
    "from keras.preprocessing.image import img_to_array\n",
    "type(pngfile1)"
   ]
  },
  {
   "cell_type": "code",
   "execution_count": 363,
   "metadata": {},
   "outputs": [],
   "source": [
    "import tensorflow as tf\n",
    "def preprocess_image(image, target_size):\n",
    "    if image.mode != \"RGB\" :\n",
    "        image= image.convert(\"RGB\")\n",
    "    \n",
    "    image= image.resize(target_size)\n",
    "    image= img_to_array(image)\n",
    "    image= np.reshape(image, [64,64,3])\n",
    "    image/=255\n",
    "    image= np.expand_dims(image,0)\n",
    "\n",
    "    return image"
   ]
  },
  {
   "cell_type": "code",
   "execution_count": 364,
   "metadata": {},
   "outputs": [],
   "source": [
    "processed=[]\n",
    "processed.append(preprocess_image(pngfile1,(64,64)))\n",
    "#processed.append(preprocess_image(pngfile2,(64,64)))"
   ]
  },
  {
   "cell_type": "code",
   "execution_count": 365,
   "metadata": {},
   "outputs": [],
   "source": [
    "import sys\n",
    "np.set_printoptions(threshold=sys.maxsize)"
   ]
  },
  {
   "cell_type": "code",
   "execution_count": 366,
   "metadata": {},
   "outputs": [
    {
     "data": {
      "text/plain": [
       "(1, 1, 64, 64, 3)"
      ]
     },
     "execution_count": 366,
     "metadata": {},
     "output_type": "execute_result"
    }
   ],
   "source": [
    "np.shape(processed)"
   ]
  },
  {
   "cell_type": "code",
   "execution_count": 374,
   "metadata": {},
   "outputs": [
    {
     "name": "stdout",
     "output_type": "stream",
     "text": [
      "The Probabilities of being uninfected and Parasitized respectively are: [[20.374086 79.62591 ]] %\n",
      "Hence the cell is Parasitized\n"
     ]
    }
   ],
   "source": [
    "prediction= model.predict(processed)\n",
    "prob=model.predict(processed)\n",
    "print (\"The Probabilities of being uninfected and Parasitized respectively are:\",prob*100,\"%\")\n",
    "prediction= np.argmax(prediction, axis=1)\n",
    "if (prediction==1):\n",
    "    print (\"Hence the cell is Parasitized\")\n",
    "else:\n",
    "    print (\"Hence the cell is Uninfected\")\n",
    "    "
   ]
  },
  {
   "cell_type": "code",
   "execution_count": 368,
   "metadata": {},
   "outputs": [
    {
     "data": {
      "text/plain": [
       "['best.pkl']"
      ]
     },
     "execution_count": 368,
     "metadata": {},
     "output_type": "execute_result"
    }
   ],
   "source": [
    "import joblib\n",
    "malaria_model = \"best.pkl\"   \n",
    "joblib.dump(model, malaria_model)"
   ]
  },
  {
   "cell_type": "code",
   "execution_count": 369,
   "metadata": {},
   "outputs": [
    {
     "data": {
      "text/plain": [
       "<matplotlib.legend.Legend at 0x1f0711bb978>"
      ]
     },
     "execution_count": 369,
     "metadata": {},
     "output_type": "execute_result"
    },
    {
     "data": {
      "image/png": "[encoded data removed]",
      "text/plain": [
       "<Figure size 432x288 with 1 Axes>"
      ]
     },
     "metadata": {},
     "output_type": "display_data"
    }
   ],
   "source": [
    "# plot the training loss and accuracy\n",
    "N = NUM_EPOCHS\n",
    "plt.style.use(\"ggplot\")\n",
    "plt.figure()\n",
    "plt.plot(np.arange(0, N), H.history[\"loss\"], label=\"train_loss\")\n",
    "plt.plot(np.arange(0, N), H.history[\"val_loss\"], label=\"val_loss\")\n",
    "plt.plot(np.arange(0, N), H.history[\"acc\"], label=\"train_acc\")\n",
    "plt.plot(np.arange(0, N), H.history[\"val_acc\"], label=\"val_acc\")\n",
    "plt.title(\"Training Loss and Accuracy on Dataset\")\n",
    "plt.xlabel(\"Epoch #\")\n",
    "plt.ylabel(\"Loss/Accuracy\")\n",
    "plt.legend(loc=\"lower left\")\n",
    "#plt.savefig(args[\"plot\"])"
   ]
  },
  {
   "cell_type": "code",
   "execution_count": 22,
   "metadata": {},
   "outputs": [],
   "source": [
    "%matplotlib inline"
   ]
  }
 ],
 "metadata": {
  "kernelspec": {
   "display_name": "Python 3",
   "language": "python",
   "name": "python3"
  },
  "language_info": {
   "codemirror_mode": {
    "name": "ipython",
    "version": 3
   },
   "file_extension": ".py",
   "mimetype": "text/x-python",
   "name": "python",
   "nbconvert_exporter": "python",
   "pygments_lexer": "ipython3",
   "version": "3.7.3"
  }
 },
 "nbformat": 4,
 "nbformat_minor": 2
}
